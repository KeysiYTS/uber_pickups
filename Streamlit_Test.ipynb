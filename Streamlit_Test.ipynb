{
  "nbformat": 4,
  "nbformat_minor": 0,
  "metadata": {
    "colab": {
      "name": "Streamlit_Test.ipynb",
      "provenance": [],
      "collapsed_sections": [],
      "mount_file_id": "11D-TuU-XK4BckK6giwg-z76ssftt-ld_",
      "authorship_tag": "ABX9TyP4zdKLMYQcBoxKESwiPnSj",
      "include_colab_link": true
    },
    "kernelspec": {
      "name": "python3",
      "display_name": "Python 3"
    },
    "language_info": {
      "name": "python"
    }
  },
  "cells": [
    {
      "cell_type": "markdown",
      "metadata": {
        "id": "view-in-github",
        "colab_type": "text"
      },
      "source": [
        "<a href=\"https://colab.research.google.com/github/KeysiYTS/uber_pickups/blob/main/Streamlit_Test.ipynb\" target=\"_parent\"><img src=\"https://colab.research.google.com/assets/colab-badge.svg\" alt=\"Open In Colab\"/></a>"
      ]
    },
    {
      "cell_type": "code",
      "metadata": {
        "id": "4VE0eZpU_e9v"
      },
      "source": [
        "! pip install streamlit -q"
      ],
      "execution_count": null,
      "outputs": []
    },
    {
      "cell_type": "code",
      "metadata": {
        "id": "oi-igPs9PFDt"
      },
      "source": [
        "! pip install pyngrok -q"
      ],
      "execution_count": null,
      "outputs": []
    },
    {
      "cell_type": "markdown",
      "metadata": {
        "id": "5IKBSsz1K-Dz"
      },
      "source": [
        "#IMPORTANT\n"
      ]
    },
    {
      "cell_type": "markdown",
      "metadata": {
        "id": "L1l8ZE4CPYA8"
      },
      "source": [
        "##  [Start Your App](https://medium.com/@jcharistech/how-to-run-streamlit-apps-from-colab-29b969a1bdfc) \n",
        "Now that we have written our app, we can now start our app like we would have done if we were running it locally. But the caveat is to run it in the background so that if the cell finish running, our app will continue to run as a background process behind.\n",
        "We can do so using `nohub` or `disown`.  \n",
        "\n",
        "**Create A Secure Tunnel Using Pyngrok**  \n",
        "As we learnt earlier ngrok allows us to create a secure tunnel for accessing our local apps and webhooks. We will be using pyngrok which acts as a python wrapper around ngrok. Installing pyngrok both offers the python package as well as the CLI hence you can use any as you wish.\n",
        "To create our tunnel we will be using pyngrok and passing in the port from streamlit (ie 8501) ."
      ]
    },
    {
      "cell_type": "markdown",
      "metadata": {
        "id": "4le_ubRTPZ0b"
      },
      "source": [
        "# CODE"
      ]
    },
    {
      "cell_type": "code",
      "metadata": {
        "id": "Pkq_zAsGTIwO"
      },
      "source": [
        "from pyngrok import ngrok"
      ],
      "execution_count": null,
      "outputs": []
    },
    {
      "cell_type": "code",
      "metadata": {
        "colab": {
          "base_uri": "https://localhost:8080/"
        },
        "id": "vODa3MrhFABR",
        "outputId": "de144569-5619-4dda-fede-5a8f308b9576"
      },
      "source": [
        "%cd '/content/drive/MyDrive/0_Machine_Learning/Projetos/Streamlit'"
      ],
      "execution_count": null,
      "outputs": [
        {
          "output_type": "stream",
          "name": "stdout",
          "text": [
            "/content/drive/MyDrive/0_Machine_Learning/Projetos/Streamlit\n"
          ]
        }
      ]
    },
    {
      "cell_type": "code",
      "metadata": {
        "id": "fjO2BgBmCJL-"
      },
      "source": [
        "! streamlit run uber_pickups.py &>/dev/null&"
      ],
      "execution_count": null,
      "outputs": []
    },
    {
      "cell_type": "code",
      "metadata": {
        "colab": {
          "base_uri": "https://localhost:8080/"
        },
        "id": "hUfmyVSAE6dC",
        "outputId": "b705690e-c510-460a-a3f7-3b043bfcdd4b"
      },
      "source": [
        "# Setup a tunnel to the streamlit port 8501\n",
        "ngrok_tunnel = ngrok.connect(8501)\n",
        "print('Public URL:', ngrok_tunnel.public_url)"
      ],
      "execution_count": null,
      "outputs": [
        {
          "output_type": "stream",
          "name": "stdout",
          "text": [
            "Public URL: http://3bbe-35-229-67-131.ngrok.io\n"
          ]
        }
      ]
    },
    {
      "cell_type": "code",
      "metadata": {
        "colab": {
          "base_uri": "https://localhost:8080/"
        },
        "id": "zGP96LX7P-Yc",
        "outputId": "b9fba618-c3e9-4f5a-87e8-db3238fa879d"
      },
      "source": [
        "!ps -eaf | grep streamlit"
      ],
      "execution_count": null,
      "outputs": [
        {
          "output_type": "stream",
          "name": "stdout",
          "text": [
            "root         389       1  0 17:04 ?        00:00:09 /usr/bin/python3 /usr/local/bin/streamlit run uber_pickups.py\n",
            "root         599     322  0 17:23 ?        00:00:00 /bin/bash -c ps -eaf | grep streamlit\n",
            "root         601     599  0 17:23 ?        00:00:00 grep streamlit\n"
          ]
        }
      ]
    },
    {
      "cell_type": "code",
      "metadata": {
        "id": "1P_3xhdzdGT7"
      },
      "source": [
        ""
      ],
      "execution_count": null,
      "outputs": []
    },
    {
      "cell_type": "code",
      "metadata": {
        "id": "zxDH2-vMQKnw"
      },
      "source": [
        "! kill 389"
      ],
      "execution_count": null,
      "outputs": []
    },
    {
      "cell_type": "code",
      "metadata": {
        "id": "GkXQtKPuQOAa"
      },
      "source": [
        "ngrok.kill()"
      ],
      "execution_count": null,
      "outputs": []
    },
    {
      "cell_type": "code",
      "metadata": {
        "id": "_qGX2ptQQRFd"
      },
      "source": [
        ""
      ],
      "execution_count": null,
      "outputs": []
    }
  ]
}